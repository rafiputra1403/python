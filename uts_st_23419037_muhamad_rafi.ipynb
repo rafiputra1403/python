{
  "nbformat": 4,
  "nbformat_minor": 0,
  "metadata": {
    "colab": {
      "provenance": [],
      "authorship_tag": "ABX9TyM8XseK4wId5Ich5zoAEW2r",
      "include_colab_link": true
    },
    "kernelspec": {
      "name": "python3",
      "display_name": "Python 3"
    },
    "language_info": {
      "name": "python"
    }
  },
  "cells": [
    {
      "cell_type": "markdown",
      "metadata": {
        "id": "view-in-github",
        "colab_type": "text"
      },
      "source": [
        "<a href=\"https://colab.research.google.com/github/rafiputra1403/python/blob/main/uts_st_23419037_muhamad_rafi.ipynb\" target=\"_parent\"><img src=\"https://colab.research.google.com/assets/colab-badge.svg\" alt=\"Open In Colab\"/></a>"
      ]
    },
    {
      "cell_type": "code",
      "execution_count": null,
      "metadata": {
        "id": "mc2scn96J7br"
      },
      "outputs": [],
      "source": [
        "# Python If-Else\n",
        "\n",
        "# Task\n",
        "# Given an integer, n, perform the following conditional actions:\n",
        "# If n is odd, print Weird\n",
        "# If n is even and in the inclusive range of 2 to 5, print Not Weird\n",
        "# If n is even and in the inclusive range of 6 to 20, print Weird\n",
        "# If n is even and greater than 20, print Not Weird\n",
        "\n",
        "# Input Format\n",
        "# A single line containing a positive integer, n.\n",
        "\n",
        "# Constraints\n",
        "# 1 <= n <= 100\n",
        "\n",
        "# Output Format\n",
        "# Print Weird if the number is weird; otherwise, print Not Weird.\n",
        "\n",
        "#!/bin/python\n",
        "\n",
        "import math\n",
        "import os\n",
        "import random\n",
        "import re\n",
        "import sys"
      ]
    },
    {
      "cell_type": "code",
      "source": [
        "if __name__ == '__main__':\n",
        "    n = int(input().strip())\n",
        "\n",
        "    if n % 2 != 0:\n",
        "      print (\"Weird\")\n",
        "    else:\n",
        "      if n >= 2 and n <= 5:\n",
        "        print (\"Not Weird\")\n",
        "      elif n >= 6 and n <= 20:\n",
        "        print (\"Weird\")\n",
        "      elif n > 20:\n",
        "        print (\"Not Weird\")"
      ],
      "metadata": {
        "colab": {
          "base_uri": "https://localhost:8080/"
        },
        "id": "T5XhGZiSKQmQ",
        "outputId": "fb34416b-42e2-48e4-d03f-5d054a61d04b"
      },
      "execution_count": null,
      "outputs": [
        {
          "output_type": "stream",
          "name": "stdout",
          "text": [
            "5\n",
            "Weird\n"
          ]
        }
      ]
    },
    {
      "cell_type": "code",
      "source": [
        "if __name__ == '__main__':\n",
        "    n = int(input())\n",
        "    for i in range (1, n+1):\n",
        "        print(i,end='')"
      ],
      "metadata": {
        "colab": {
          "base_uri": "https://localhost:8080/"
        },
        "id": "0CHKT1NGK3HA",
        "outputId": "5a4b0f5f-586f-4040-9f42-2b1ccc61f7a4"
      },
      "execution_count": null,
      "outputs": [
        {
          "output_type": "stream",
          "name": "stdout",
          "text": [
            "5\n",
            "12345"
          ]
        }
      ]
    }
  ]
}