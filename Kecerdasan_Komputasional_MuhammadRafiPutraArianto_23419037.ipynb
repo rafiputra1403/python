{
  "nbformat": 4,
  "nbformat_minor": 0,
  "metadata": {
    "colab": {
      "provenance": [],
      "authorship_tag": "ABX9TyP2wg+NwfEi2uUUWC1KlnQ1",
      "include_colab_link": true
    },
    "kernelspec": {
      "name": "python3",
      "display_name": "Python 3"
    },
    "language_info": {
      "name": "python"
    }
  },
  "cells": [
    {
      "cell_type": "markdown",
      "metadata": {
        "id": "view-in-github",
        "colab_type": "text"
      },
      "source": [
        "<a href=\"https://colab.research.google.com/github/rafiputra1403/python/blob/main/Kecerdasan_Komputasional_MuhammadRafiPutraArianto_23419037.ipynb\" target=\"_parent\"><img src=\"https://colab.research.google.com/assets/colab-badge.svg\" alt=\"Open In Colab\"/></a>"
      ]
    },
    {
      "cell_type": "code",
      "execution_count": 1,
      "metadata": {
        "id": "UrbFGzdP5VY3"
      },
      "outputs": [],
      "source": [
        "import matplotlib as plt\n",
        "from sklearn.datasets import make_blobs\n",
        "from sklearn.cluster import KMeans\n",
        "from sklearn.metrics import silhouette_score\n",
        "from sklearn.preprocessing import StandardScaler"
      ]
    },
    {
      "cell_type": "code",
      "source": [
        "features, true_label = make_blobs(\n",
        "    n_samples=730,\n",
        "    centers=5,\n",
        "    cluster_std=7.30,\n",
        "    random_state=12\n",
        ")"
      ],
      "metadata": {
        "id": "FjL7gxkw5pwv"
      },
      "execution_count": 2,
      "outputs": []
    },
    {
      "cell_type": "code",
      "source": [
        "features[:10]"
      ],
      "metadata": {
        "colab": {
          "base_uri": "https://localhost:8080/"
        },
        "id": "eD_0o8Ba6Niv",
        "outputId": "2077b2c8-88a8-4a33-cd2c-a7032690e24d"
      },
      "execution_count": 3,
      "outputs": [
        {
          "output_type": "execute_result",
          "data": {
            "text/plain": [
              "array([[ 1.95793620e+00, -1.66215169e+01],\n",
              "       [ 1.58323143e+00, -1.17540835e+01],\n",
              "       [-1.31576073e+01,  6.46048606e-01],\n",
              "       [-2.10928866e-01, -4.45265403e+00],\n",
              "       [ 1.38259531e+01, -8.98460919e+00],\n",
              "       [-1.00539450e+01, -8.11371219e+00],\n",
              "       [ 6.91754787e+00,  3.80373367e+00],\n",
              "       [-2.43530790e+01,  1.06604438e+01],\n",
              "       [-5.97491142e+00,  3.48493801e-04],\n",
              "       [ 8.24755075e+00, -7.94484992e+00]])"
            ]
          },
          "metadata": {},
          "execution_count": 3
        }
      ]
    },
    {
      "cell_type": "code",
      "source": [
        "true_label[:200]"
      ],
      "metadata": {
        "colab": {
          "base_uri": "https://localhost:8080/"
        },
        "id": "I7rYzw9G6TwG",
        "outputId": "915544fe-3db4-4b4d-84df-c04d46313748"
      },
      "execution_count": 4,
      "outputs": [
        {
          "output_type": "execute_result",
          "data": {
            "text/plain": [
              "array([3, 4, 2, 1, 3, 1, 1, 2, 1, 4, 0, 3, 2, 3, 0, 4, 0, 4, 2, 3, 4, 3,\n",
              "       2, 0, 1, 4, 1, 1, 4, 4, 0, 4, 2, 2, 4, 2, 2, 2, 3, 1, 0, 1, 4, 4,\n",
              "       0, 0, 0, 0, 1, 1, 4, 2, 0, 1, 2, 0, 2, 4, 1, 4, 3, 4, 1, 2, 2, 3,\n",
              "       4, 4, 3, 4, 2, 3, 2, 0, 3, 1, 3, 3, 3, 0, 4, 2, 1, 0, 3, 0, 1, 3,\n",
              "       1, 4, 3, 3, 0, 1, 4, 0, 3, 3, 2, 4, 4, 3, 2, 3, 2, 3, 0, 2, 0, 1,\n",
              "       1, 2, 0, 4, 0, 2, 4, 3, 1, 1, 0, 3, 4, 4, 2, 2, 1, 4, 3, 1, 4, 3,\n",
              "       2, 1, 1, 1, 4, 2, 3, 3, 4, 1, 4, 1, 0, 1, 0, 1, 3, 3, 3, 4, 0, 2,\n",
              "       0, 1, 3, 4, 3, 0, 1, 4, 1, 4, 3, 0, 2, 1, 2, 2, 3, 4, 0, 1, 0, 4,\n",
              "       2, 0, 4, 4, 1, 4, 1, 1, 0, 1, 1, 3, 1, 2, 0, 0, 4, 4, 4, 4, 3, 0,\n",
              "       3, 2])"
            ]
          },
          "metadata": {},
          "execution_count": 4
        }
      ]
    },
    {
      "cell_type": "code",
      "source": [
        "standard_skala = StandardScaler()\n",
        "skala_fitur = standard_skala.fit_transform(features)"
      ],
      "metadata": {
        "id": "-CLJLsEd6V_I"
      },
      "execution_count": 5,
      "outputs": []
    },
    {
      "cell_type": "code",
      "source": [
        "skala_fitur[:10]"
      ],
      "metadata": {
        "colab": {
          "base_uri": "https://localhost:8080/"
        },
        "id": "H1PDvKzT6cQn",
        "outputId": "1a887418-d10a-4806-b8a0-c3be45638396"
      },
      "execution_count": 6,
      "outputs": [
        {
          "output_type": "execute_result",
          "data": {
            "text/plain": [
              "array([[ 0.27232762, -1.55769809],\n",
              "       [ 0.23752916, -1.0790267 ],\n",
              "       [-1.13143788,  0.14042264],\n",
              "       [ 0.07090728, -0.36099215],\n",
              "       [ 1.37449855, -0.80667205],\n",
              "       [-0.84320385, -0.72102661],\n",
              "       [ 0.73292183,  0.45095457],\n",
              "       [-2.17115021,  1.12525469],\n",
              "       [-0.46438805,  0.07692343],\n",
              "       [ 0.85643787, -0.70442042]])"
            ]
          },
          "metadata": {},
          "execution_count": 6
        }
      ]
    },
    {
      "cell_type": "code",
      "source": [
        "metode_kmeans = KMeans(\n",
        "    init=\"random\", \n",
        "    n_clusters=9, \n",
        "    n_init=10, \n",
        "    max_iter=100, \n",
        "    random_state=42\n",
        "    )"
      ],
      "metadata": {
        "id": "BSzWlFlg6hKZ"
      },
      "execution_count": 7,
      "outputs": []
    },
    {
      "cell_type": "code",
      "source": [
        "metode_kmeans.fit(skala_fitur)"
      ],
      "metadata": {
        "colab": {
          "base_uri": "https://localhost:8080/",
          "height": 74
        },
        "id": "0Qzi750g6uRd",
        "outputId": "961634c0-bb9d-4d2d-9c2b-6ec1366d04bf"
      },
      "execution_count": 8,
      "outputs": [
        {
          "output_type": "execute_result",
          "data": {
            "text/plain": [
              "KMeans(init='random', max_iter=100, n_clusters=9, n_init=10, random_state=42)"
            ],
            "text/html": [
              "<style>#sk-container-id-1 {color: black;background-color: white;}#sk-container-id-1 pre{padding: 0;}#sk-container-id-1 div.sk-toggleable {background-color: white;}#sk-container-id-1 label.sk-toggleable__label {cursor: pointer;display: block;width: 100%;margin-bottom: 0;padding: 0.3em;box-sizing: border-box;text-align: center;}#sk-container-id-1 label.sk-toggleable__label-arrow:before {content: \"▸\";float: left;margin-right: 0.25em;color: #696969;}#sk-container-id-1 label.sk-toggleable__label-arrow:hover:before {color: black;}#sk-container-id-1 div.sk-estimator:hover label.sk-toggleable__label-arrow:before {color: black;}#sk-container-id-1 div.sk-toggleable__content {max-height: 0;max-width: 0;overflow: hidden;text-align: left;background-color: #f0f8ff;}#sk-container-id-1 div.sk-toggleable__content pre {margin: 0.2em;color: black;border-radius: 0.25em;background-color: #f0f8ff;}#sk-container-id-1 input.sk-toggleable__control:checked~div.sk-toggleable__content {max-height: 200px;max-width: 100%;overflow: auto;}#sk-container-id-1 input.sk-toggleable__control:checked~label.sk-toggleable__label-arrow:before {content: \"▾\";}#sk-container-id-1 div.sk-estimator input.sk-toggleable__control:checked~label.sk-toggleable__label {background-color: #d4ebff;}#sk-container-id-1 div.sk-label input.sk-toggleable__control:checked~label.sk-toggleable__label {background-color: #d4ebff;}#sk-container-id-1 input.sk-hidden--visually {border: 0;clip: rect(1px 1px 1px 1px);clip: rect(1px, 1px, 1px, 1px);height: 1px;margin: -1px;overflow: hidden;padding: 0;position: absolute;width: 1px;}#sk-container-id-1 div.sk-estimator {font-family: monospace;background-color: #f0f8ff;border: 1px dotted black;border-radius: 0.25em;box-sizing: border-box;margin-bottom: 0.5em;}#sk-container-id-1 div.sk-estimator:hover {background-color: #d4ebff;}#sk-container-id-1 div.sk-parallel-item::after {content: \"\";width: 100%;border-bottom: 1px solid gray;flex-grow: 1;}#sk-container-id-1 div.sk-label:hover label.sk-toggleable__label {background-color: #d4ebff;}#sk-container-id-1 div.sk-serial::before {content: \"\";position: absolute;border-left: 1px solid gray;box-sizing: border-box;top: 0;bottom: 0;left: 50%;z-index: 0;}#sk-container-id-1 div.sk-serial {display: flex;flex-direction: column;align-items: center;background-color: white;padding-right: 0.2em;padding-left: 0.2em;position: relative;}#sk-container-id-1 div.sk-item {position: relative;z-index: 1;}#sk-container-id-1 div.sk-parallel {display: flex;align-items: stretch;justify-content: center;background-color: white;position: relative;}#sk-container-id-1 div.sk-item::before, #sk-container-id-1 div.sk-parallel-item::before {content: \"\";position: absolute;border-left: 1px solid gray;box-sizing: border-box;top: 0;bottom: 0;left: 50%;z-index: -1;}#sk-container-id-1 div.sk-parallel-item {display: flex;flex-direction: column;z-index: 1;position: relative;background-color: white;}#sk-container-id-1 div.sk-parallel-item:first-child::after {align-self: flex-end;width: 50%;}#sk-container-id-1 div.sk-parallel-item:last-child::after {align-self: flex-start;width: 50%;}#sk-container-id-1 div.sk-parallel-item:only-child::after {width: 0;}#sk-container-id-1 div.sk-dashed-wrapped {border: 1px dashed gray;margin: 0 0.4em 0.5em 0.4em;box-sizing: border-box;padding-bottom: 0.4em;background-color: white;}#sk-container-id-1 div.sk-label label {font-family: monospace;font-weight: bold;display: inline-block;line-height: 1.2em;}#sk-container-id-1 div.sk-label-container {text-align: center;}#sk-container-id-1 div.sk-container {/* jupyter's `normalize.less` sets `[hidden] { display: none; }` but bootstrap.min.css set `[hidden] { display: none !important; }` so we also need the `!important` here to be able to override the default hidden behavior on the sphinx rendered scikit-learn.org. See: https://github.com/scikit-learn/scikit-learn/issues/21755 */display: inline-block !important;position: relative;}#sk-container-id-1 div.sk-text-repr-fallback {display: none;}</style><div id=\"sk-container-id-1\" class=\"sk-top-container\"><div class=\"sk-text-repr-fallback\"><pre>KMeans(init=&#x27;random&#x27;, max_iter=100, n_clusters=9, n_init=10, random_state=42)</pre><b>In a Jupyter environment, please rerun this cell to show the HTML representation or trust the notebook. <br />On GitHub, the HTML representation is unable to render, please try loading this page with nbviewer.org.</b></div><div class=\"sk-container\" hidden><div class=\"sk-item\"><div class=\"sk-estimator sk-toggleable\"><input class=\"sk-toggleable__control sk-hidden--visually\" id=\"sk-estimator-id-1\" type=\"checkbox\" checked><label for=\"sk-estimator-id-1\" class=\"sk-toggleable__label sk-toggleable__label-arrow\">KMeans</label><div class=\"sk-toggleable__content\"><pre>KMeans(init=&#x27;random&#x27;, max_iter=100, n_clusters=9, n_init=10, random_state=42)</pre></div></div></div></div></div>"
            ]
          },
          "metadata": {},
          "execution_count": 8
        }
      ]
    },
    {
      "cell_type": "code",
      "source": [
        "metode_kmeans.inertia_"
      ],
      "metadata": {
        "colab": {
          "base_uri": "https://localhost:8080/"
        },
        "id": "XSErK8kN60Yw",
        "outputId": "503b76bf-d03f-4bc9-a1c4-ad33acb65041"
      },
      "execution_count": 9,
      "outputs": [
        {
          "output_type": "execute_result",
          "data": {
            "text/plain": [
              "196.54565121615573"
            ]
          },
          "metadata": {},
          "execution_count": 9
        }
      ]
    },
    {
      "cell_type": "code",
      "source": [
        "metode_kmeans.cluster_centers_"
      ],
      "metadata": {
        "colab": {
          "base_uri": "https://localhost:8080/"
        },
        "id": "VUu92Zhx66w8",
        "outputId": "61942376-8302-4a4a-8cde-6f7f2c951384"
      },
      "execution_count": 10,
      "outputs": [
        {
          "output_type": "execute_result",
          "data": {
            "text/plain": [
              "array([[-1.66245019,  1.20498647],\n",
              "       [ 0.03891587, -0.63602946],\n",
              "       [ 1.793042  , -0.91588474],\n",
              "       [ 1.13456076, -0.22480141],\n",
              "       [-0.63074081,  0.7646173 ],\n",
              "       [ 0.66091154, -1.5011091 ],\n",
              "       [ 0.19419361,  0.30977467],\n",
              "       [-0.31067762,  1.74845188],\n",
              "       [-1.07211156, -0.17780867]])"
            ]
          },
          "metadata": {},
          "execution_count": 10
        }
      ]
    },
    {
      "cell_type": "code",
      "source": [
        "metode_kmeans.n_iter_"
      ],
      "metadata": {
        "colab": {
          "base_uri": "https://localhost:8080/"
        },
        "id": "kGvY_A886-z2",
        "outputId": "cda14328-3bd9-4dcb-b569-9b7e252a292b"
      },
      "execution_count": 11,
      "outputs": [
        {
          "output_type": "execute_result",
          "data": {
            "text/plain": [
              "29"
            ]
          },
          "metadata": {},
          "execution_count": 11
        }
      ]
    },
    {
      "cell_type": "code",
      "source": [
        "metode_kmeans.labels_"
      ],
      "metadata": {
        "colab": {
          "base_uri": "https://localhost:8080/"
        },
        "id": "aboNuBAZ7C4Z",
        "outputId": "e17c3dcb-0370-4a08-ed97-25c48716e40d"
      },
      "execution_count": 12,
      "outputs": [
        {
          "output_type": "execute_result",
          "data": {
            "text/plain": [
              "array([5, 1, 8, 1, 2, 8, 6, 0, 8, 3, 7, 5, 4, 3, 6, 3, 8, 6, 4, 5, 5, 5,\n",
              "       4, 1, 4, 5, 7, 6, 5, 5, 8, 4, 7, 0, 2, 0, 7, 0, 5, 1, 8, 1, 1, 5,\n",
              "       4, 0, 6, 8, 4, 1, 3, 0, 8, 1, 4, 1, 7, 2, 1, 2, 1, 2, 6, 8, 4, 2,\n",
              "       1, 6, 6, 5, 0, 5, 7, 8, 1, 8, 1, 5, 1, 3, 2, 6, 8, 7, 3, 4, 7, 1,\n",
              "       6, 2, 1, 3, 0, 8, 5, 0, 3, 5, 8, 2, 5, 1, 4, 2, 0, 3, 8, 4, 1, 4,\n",
              "       0, 4, 3, 2, 4, 0, 5, 5, 8, 8, 8, 1, 3, 5, 0, 1, 1, 1, 3, 8, 3, 3,\n",
              "       7, 6, 3, 8, 2, 4, 5, 1, 2, 4, 8, 6, 4, 6, 1, 8, 3, 1, 1, 5, 4, 0,\n",
              "       7, 6, 5, 2, 1, 6, 6, 2, 4, 3, 5, 4, 6, 8, 6, 6, 6, 5, 7, 0, 7, 2,\n",
              "       7, 8, 1, 1, 8, 5, 3, 6, 6, 4, 4, 5, 4, 8, 6, 4, 3, 5, 3, 2, 5, 3,\n",
              "       5, 4, 5, 5, 3, 6, 6, 3, 1, 3, 1, 5, 3, 6, 6, 0, 3, 0, 5, 3, 7, 1,\n",
              "       5, 1, 1, 3, 8, 1, 6, 3, 7, 0, 6, 2, 1, 6, 8, 7, 4, 4, 3, 5, 8, 8,\n",
              "       5, 1, 4, 6, 1, 4, 0, 6, 5, 5, 1, 8, 4, 7, 4, 1, 7, 4, 8, 3, 5, 4,\n",
              "       2, 3, 4, 0, 5, 5, 6, 4, 6, 8, 0, 8, 3, 8, 4, 3, 5, 6, 8, 2, 1, 4,\n",
              "       7, 1, 1, 1, 8, 7, 6, 0, 3, 1, 6, 4, 1, 7, 3, 4, 0, 0, 2, 6, 8, 6,\n",
              "       5, 1, 4, 3, 4, 4, 1, 6, 6, 8, 5, 8, 2, 0, 4, 1, 6, 1, 5, 8, 3, 4,\n",
              "       3, 4, 4, 6, 4, 8, 8, 6, 6, 0, 3, 1, 7, 6, 1, 1, 3, 3, 3, 8, 6, 6,\n",
              "       3, 2, 6, 3, 7, 8, 6, 1, 6, 4, 6, 5, 0, 2, 8, 4, 4, 0, 6, 4, 3, 8,\n",
              "       8, 3, 4, 4, 4, 0, 4, 6, 6, 2, 5, 5, 5, 0, 6, 0, 1, 8, 3, 7, 1, 3,\n",
              "       8, 2, 1, 6, 3, 3, 0, 7, 4, 5, 7, 4, 3, 1, 0, 5, 0, 7, 0, 2, 5, 2,\n",
              "       4, 3, 4, 8, 6, 6, 6, 1, 6, 3, 4, 3, 3, 3, 7, 4, 1, 4, 1, 8, 2, 5,\n",
              "       6, 1, 6, 6, 3, 6, 0, 7, 7, 0, 7, 7, 3, 1, 5, 0, 4, 2, 1, 2, 0, 6,\n",
              "       8, 6, 8, 2, 5, 8, 0, 6, 8, 5, 4, 3, 4, 7, 1, 4, 1, 5, 4, 2, 0, 6,\n",
              "       3, 6, 1, 7, 6, 8, 5, 7, 5, 3, 1, 8, 1, 3, 6, 1, 1, 4, 0, 4, 6, 8,\n",
              "       2, 6, 1, 3, 0, 3, 4, 6, 6, 5, 7, 8, 8, 4, 0, 3, 4, 8, 5, 7, 5, 7,\n",
              "       8, 8, 3, 8, 1, 4, 1, 4, 7, 0, 1, 8, 5, 6, 8, 1, 7, 0, 1, 4, 4, 5,\n",
              "       2, 4, 5, 1, 2, 2, 4, 0, 7, 4, 5, 0, 0, 7, 4, 8, 3, 4, 7, 3, 4, 7,\n",
              "       2, 6, 7, 0, 3, 6, 6, 5, 2, 5, 8, 4, 1, 3, 8, 8, 5, 5, 4, 0, 7, 3,\n",
              "       4, 6, 4, 7, 3, 5, 6, 8, 8, 5, 4, 4, 0, 8, 4, 5, 3, 4, 5, 6, 1, 7,\n",
              "       1, 3, 6, 5, 6, 2, 7, 0, 1, 5, 7, 5, 3, 6, 2, 4, 8, 5, 1, 4, 5, 2,\n",
              "       6, 5, 0, 4, 6, 8, 1, 4, 5, 7, 4, 1, 5, 1, 6, 6, 5, 1, 4, 2, 1, 6,\n",
              "       5, 3, 3, 3, 6, 7, 6, 2, 4, 0, 8, 7, 0, 8, 2, 6, 1, 4, 7, 6, 0, 4,\n",
              "       5, 0, 4, 2, 5, 5, 2, 2, 3, 5, 0, 1, 0, 3, 2, 4, 4, 2, 4, 1, 0, 2,\n",
              "       3, 2, 5, 5, 6, 1, 5, 1, 4, 1, 6, 3, 1, 8, 2, 5, 1, 6, 6, 6, 8, 8,\n",
              "       5, 7, 4, 0], dtype=int32)"
            ]
          },
          "metadata": {},
          "execution_count": 12
        }
      ]
    },
    {
      "cell_type": "code",
      "source": [
        "import numpy as np\n",
        "import matplotlib.pyplot as plt\n",
        "import pandas as pd"
      ],
      "metadata": {
        "id": "Br7m3xm67G0K"
      },
      "execution_count": 13,
      "outputs": []
    },
    {
      "cell_type": "code",
      "source": [
        "color = np.array([\"Red\",\"Green\",\"Blue\",\"yellow\",\"black\",\"white\",\"brown\",\"pink\",\"purple\"])\n",
        "plt.subplot(1,2,2)\n",
        "plt.scatter(skala_fitur[:,0], skala_fitur[:,1], s=50, alpha=1, cmap='viridis', c=color[metode_kmeans.labels_])"
      ],
      "metadata": {
        "colab": {
          "base_uri": "https://localhost:8080/",
          "height": 485
        },
        "id": "gHgQf0PR7Kw9",
        "outputId": "c5aef4d6-b16e-426c-f354-9160f6c5ac9f"
      },
      "execution_count": 14,
      "outputs": [
        {
          "output_type": "stream",
          "name": "stderr",
          "text": [
            "<ipython-input-14-4be062c28ced>:3: UserWarning: No data for colormapping provided via 'c'. Parameters 'cmap' will be ignored\n",
            "  plt.scatter(skala_fitur[:,0], skala_fitur[:,1], s=50, alpha=1, cmap='viridis', c=color[metode_kmeans.labels_])\n"
          ]
        },
        {
          "output_type": "execute_result",
          "data": {
            "text/plain": [
              "<matplotlib.collections.PathCollection at 0x7f6a5b447d00>"
            ]
          },
          "metadata": {},
          "execution_count": 14
        },
        {
          "output_type": "display_data",
          "data": {
            "text/plain": [
              "<Figure size 640x480 with 1 Axes>"
            ],
            "image/png": "[encoded data removed]"
          },
          "metadata": {}
        }
      ]
    }
  ]
}